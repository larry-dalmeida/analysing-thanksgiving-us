{
 "cells": [
  {
   "cell_type": "markdown",
   "metadata": {
    "collapsed": true
   },
   "source": [
    "# Setup"
   ]
  },
  {
   "cell_type": "code",
   "execution_count": 24,
   "metadata": {
    "collapsed": true
   },
   "outputs": [],
   "source": [
    "import re\n",
    "import pandas\n",
    "raw_data = pandas.read_csv('thanksgiving.csv', encoding='Latin-1')"
   ]
  },
  {
   "cell_type": "markdown",
   "metadata": {},
   "source": [
    "# Getting familiar with the data"
   ]
  },
  {
   "cell_type": "code",
   "execution_count": 25,
   "metadata": {
    "collapsed": false,
    "scrolled": true
   },
   "outputs": [
    {
     "name": "stdout",
     "output_type": "stream",
     "text": [
      "Yes    980\n",
      "No      78\n",
      "Name: Do you celebrate Thanksgiving?, dtype: int64\n"
     ]
    }
   ],
   "source": [
    "celebration_query_column = raw_data['Do you celebrate Thanksgiving?']\n",
    "participant_counts = celebration_query_column.value_counts()\n",
    "print(participant_counts)\n",
    "\n",
    "# Filter out participants who do not celebrate\n",
    "data = raw_data[raw_data['Do you celebrate Thanksgiving?'] == 'Yes']"
   ]
  },
  {
   "cell_type": "code",
   "execution_count": null,
   "metadata": {
    "collapsed": false
   },
   "outputs": [],
   "source": []
  },
  {
   "cell_type": "markdown",
   "metadata": {},
   "source": [
    "# Analysing by Dish"
   ]
  },
  {
   "cell_type": "markdown",
   "metadata": {},
   "source": [
    "## Main Dish"
   ]
  },
  {
   "cell_type": "code",
   "execution_count": 26,
   "metadata": {
    "collapsed": false
   },
   "outputs": [
    {
     "name": "stdout",
     "output_type": "stream",
     "text": [
      "Turkey                    859\n",
      "Other (please specify)     35\n",
      "Ham/Pork                   29\n",
      "Tofurkey                   20\n",
      "Chicken                    12\n",
      "Roast beef                 11\n",
      "I don't know                5\n",
      "Turducken                   3\n",
      "Name: What is typically the main dish at your Thanksgiving dinner?, dtype: int64\n"
     ]
    }
   ],
   "source": [
    "main_dish_counts = data['What is typically the main dish at your Thanksgiving dinner?'].value_counts()\n",
    "print(main_dish_counts)"
   ]
  },
  {
   "cell_type": "markdown",
   "metadata": {},
   "source": [
    "Most of the US prefers a Turkey dinner specifically:"
   ]
  },
  {
   "cell_type": "code",
   "execution_count": 27,
   "metadata": {
    "collapsed": false
   },
   "outputs": [
    {
     "name": "stdout",
     "output_type": "stream",
     "text": [
      "Yes    12\n",
      "No      8\n",
      "Name: Do you typically have gravy?, dtype: int64\n"
     ]
    }
   ],
   "source": [
    "only_tofurkey = data[data['What is typically the main dish at your Thanksgiving dinner?'] == 'Tofurkey']\n",
    "gravy_with_tofurkey = only_tofurkey['Do you typically have gravy?']\n",
    "gravy_with_tofurkey_counts = gravy_with_tofurkey.value_counts()\n",
    "print(gravy_with_tofurkey_counts)"
   ]
  },
  {
   "cell_type": "markdown",
   "metadata": {
    "collapsed": false
   },
   "source": [
    "# American Pie"
   ]
  },
  {
   "cell_type": "code",
   "execution_count": 28,
   "metadata": {
    "collapsed": false
   },
   "outputs": [
    {
     "name": "stdout",
     "output_type": "stream",
     "text": [
      "False    876\n",
      "True     104\n",
      "dtype: int64\n"
     ]
    }
   ],
   "source": [
    "apple_isnull = pandas.isnull(data['Which type of pie is typically served at your Thanksgiving dinner? Please select all that apply. - Apple'])\n",
    "pumpkin_isnull = pandas.isnull(data['Which type of pie is typically served at your Thanksgiving dinner? Please select all that apply. - Pumpkin'])\n",
    "pecan_isnull = pandas.isnull(data['Which type of pie is typically served at your Thanksgiving dinner? Please select all that apply. - Pecan'])\n",
    "ate_pies = apple_isnull & pumpkin_isnull & pecan_isnull\n",
    "counts_ate_pies = ate_pies.value_counts()\n",
    "print(counts_ate_pies)"
   ]
  },
  {
   "cell_type": "markdown",
   "metadata": {},
   "source": [
    "104 participants did not eat any pies and 876 participants ate Apple, Pecan or Pumpkin pies."
   ]
  },
  {
   "cell_type": "markdown",
   "metadata": {},
   "source": [
    "# Analysing Age"
   ]
  },
  {
   "cell_type": "code",
   "execution_count": 37,
   "metadata": {
    "collapsed": false
   },
   "outputs": [
    {
     "name": "stderr",
     "output_type": "stream",
     "text": [
      "/dataquest/system/env/python3/lib/python3.4/site-packages/ipykernel/__main__.py:18: SettingWithCopyWarning: \n",
      "A value is trying to be set on a copy of a slice from a DataFrame.\n",
      "Try using .loc[row_indexer,col_indexer] = value instead\n",
      "\n",
      "See the caveats in the documentation: http://pandas.pydata.org/pandas-docs/stable/indexing.html#indexing-view-versus-copy\n"
     ]
    },
    {
     "data": {
      "text/plain": [
       "0    18.0\n",
       "1    18.0\n",
       "2    18.0\n",
       "3    30.0\n",
       "4    30.0\n",
       "Name: int_age, dtype: float64"
      ]
     },
     "execution_count": 37,
     "metadata": {},
     "output_type": "execute_result"
    }
   ],
   "source": [
    "# convert_range_to_integer\n",
    "# param: str_range (String)\n",
    "# returns integer or None if null is passed\n",
    "# Example: Providing '18 - 29' returns 18\n",
    "def convert_range_to_integer(str_range):\n",
    "    if pandas.isnull(str_range):\n",
    "        return None\n",
    "    else:\n",
    "        # split the range on first whitespace and return whatever is before it\n",
    "        # Example: '18 - 29' returns '18'\n",
    "        result = str_range.split(None, 1)[0]\n",
    "        # replace '+' if exists\n",
    "        result = re.sub('\\+', '', result)\n",
    "        return int(result)\n",
    "\n",
    "    \n",
    "data['int_age'] = data['Age'].apply(convert_range_to_integer)"
   ]
  },
  {
   "cell_type": "code",
   "execution_count": 38,
   "metadata": {
    "collapsed": false
   },
   "outputs": [
    {
     "name": "stdout",
     "output_type": "stream",
     "text": [
      "count    947.000000\n",
      "mean      40.089757\n",
      "std       15.352014\n",
      "min       18.000000\n",
      "25%       30.000000\n",
      "50%       45.000000\n",
      "75%       60.000000\n",
      "max       60.000000\n",
      "Name: int_age, dtype: float64\n"
     ]
    }
   ],
   "source": [
    "print(data['int_age'].describe())"
   ]
  },
  {
   "cell_type": "markdown",
   "metadata": {},
   "source": [
    "An overviews shows that there are few participants who are in the age group of 18 - 30. With the median higher than the mean, it looks like the ages are slightly skewed to the right with more participants above 40. Large variation in the age of participants - standard deviation is 15 years.\n",
    "\n",
    "More analysis will be required to get a clearer depiction of participant ages."
   ]
  },
  {
   "cell_type": "markdown",
   "metadata": {},
   "source": [
    "# Household Income"
   ]
  },
  {
   "cell_type": "code",
   "execution_count": 46,
   "metadata": {
    "collapsed": false
   },
   "outputs": [],
   "source": [
    "def convert_money_string_to_int(str_money):\n",
    "    money = re.sub(r'[\\$,]', '', str_money)\n",
    "    return int(money)\n",
    "    \n",
    "    \n",
    "def convert_money_range_to_int(str_range):\n",
    "    if pandas.isnull(str_range):\n",
    "        return None\n",
    "    else:\n",
    "        value = str_range.split(None, 1)[0]\n",
    "        if value == 'Prefer':\n",
    "            return None\n",
    "        else:\n",
    "            return convert_money_string_to_int(value)"
   ]
  },
  {
   "cell_type": "code",
   "execution_count": 45,
   "metadata": {
    "collapsed": false
   },
   "outputs": [
    {
     "name": "stdout",
     "output_type": "stream",
     "text": [
      "count       829.000000\n",
      "mean      75965.018094\n",
      "std       59068.636748\n",
      "min           0.000000\n",
      "25%       25000.000000\n",
      "50%       75000.000000\n",
      "75%      100000.000000\n",
      "max      200000.000000\n",
      "Name: int_income, dtype: float64\n"
     ]
    },
    {
     "name": "stderr",
     "output_type": "stream",
     "text": [
      "/dataquest/system/env/python3/lib/python3.4/site-packages/ipykernel/__main__.py:2: SettingWithCopyWarning: \n",
      "A value is trying to be set on a copy of a slice from a DataFrame.\n",
      "Try using .loc[row_indexer,col_indexer] = value instead\n",
      "\n",
      "See the caveats in the documentation: http://pandas.pydata.org/pandas-docs/stable/indexing.html#indexing-view-versus-copy\n",
      "  from ipykernel import kernelapp as app\n"
     ]
    }
   ],
   "source": [
    "income = data['How much total combined money did all members of your HOUSEHOLD earn last year?']\n",
    "data['int_income'] = income.apply(convert_money_range_to_int)\n",
    "print(data['int_income'].describe())"
   ]
  },
  {
   "cell_type": "markdown",
   "metadata": {},
   "source": [
    "With the mean being at $75,965 and the median close at $75,000 and a large spread - standard deviation is $59,068, the data covers participants from a wide range of economic backgrounds."
   ]
  },
  {
   "cell_type": "code",
   "execution_count": 54,
   "metadata": {
    "collapsed": false
   },
   "outputs": [
    {
     "name": "stdout",
     "output_type": "stream",
     "text": [
      "Thanksgiving is happening at my home--I won't travel at all                         46\n",
      "Thanksgiving is local--it will take place in the town I live in                     38\n",
      "Thanksgiving is out of town but not too far--it's a drive of a few hours or less    22\n",
      "Thanksgiving is out of town and far away--I have to drive several hours or fly       6\n",
      "Name: How far will you travel for Thanksgiving?, dtype: int64\n"
     ]
    }
   ],
   "source": [
    "income_less_than_15k = data[data['int_income'] < 15000]\n",
    "travelling_distance = income_less_than_15k['How far will you travel for Thanksgiving?']\n",
    "travelling_distance_counts = travelling_distance.value_counts()\n",
    "print(travelling_distance_counts)"
   ]
  },
  {
   "cell_type": "markdown",
   "metadata": {},
   "source": [
    "Participants who earn less than $15000 are more likely to travel for Thanksgiving than celebrate in their own home. Most of those not celebrating in their own home will not be travelling too far."
   ]
  },
  {
   "cell_type": "markdown",
   "metadata": {},
   "source": [
    "# Friends and Friendsgiving"
   ]
  },
  {
   "cell_type": "code",
   "execution_count": 56,
   "metadata": {
    "collapsed": false
   },
   "outputs": [
    {
     "data": {
      "text/html": [
       "<div>\n",
       "<table border=\"1\" class=\"dataframe\">\n",
       "  <thead>\n",
       "    <tr style=\"text-align: right;\">\n",
       "      <th>Have you ever attended a \"Friendsgiving?\"</th>\n",
       "      <th>No</th>\n",
       "      <th>Yes</th>\n",
       "    </tr>\n",
       "    <tr>\n",
       "      <th>Have you ever tried to meet up with hometown friends on Thanksgiving night?</th>\n",
       "      <th></th>\n",
       "      <th></th>\n",
       "    </tr>\n",
       "  </thead>\n",
       "  <tbody>\n",
       "    <tr>\n",
       "      <th>No</th>\n",
       "      <td>42.283702</td>\n",
       "      <td>37.010526</td>\n",
       "    </tr>\n",
       "    <tr>\n",
       "      <th>Yes</th>\n",
       "      <td>41.475410</td>\n",
       "      <td>33.976744</td>\n",
       "    </tr>\n",
       "  </tbody>\n",
       "</table>\n",
       "</div>"
      ],
      "text/plain": [
       "Have you ever attended a \"Friendsgiving?\"                  No        Yes\n",
       "Have you ever tried to meet up with hometown fr...                      \n",
       "No                                                  42.283702  37.010526\n",
       "Yes                                                 41.475410  33.976744"
      ]
     },
     "execution_count": 56,
     "metadata": {},
     "output_type": "execute_result"
    }
   ],
   "source": [
    "data.pivot_table(\n",
    "    index='Have you ever tried to meet up with hometown friends on Thanksgiving night?',\n",
    "    columns='Have you ever attended a \"Friendsgiving?\"',\n",
    "    values='int_age'\n",
    ")"
   ]
  },
  {
   "cell_type": "code",
   "execution_count": 57,
   "metadata": {
    "collapsed": false
   },
   "outputs": [
    {
     "data": {
      "text/html": [
       "<div>\n",
       "<table border=\"1\" class=\"dataframe\">\n",
       "  <thead>\n",
       "    <tr style=\"text-align: right;\">\n",
       "      <th>Have you ever attended a \"Friendsgiving?\"</th>\n",
       "      <th>No</th>\n",
       "      <th>Yes</th>\n",
       "    </tr>\n",
       "    <tr>\n",
       "      <th>Have you ever tried to meet up with hometown friends on Thanksgiving night?</th>\n",
       "      <th></th>\n",
       "      <th></th>\n",
       "    </tr>\n",
       "  </thead>\n",
       "  <tbody>\n",
       "    <tr>\n",
       "      <th>No</th>\n",
       "      <td>78914.549654</td>\n",
       "      <td>72894.736842</td>\n",
       "    </tr>\n",
       "    <tr>\n",
       "      <th>Yes</th>\n",
       "      <td>78750.000000</td>\n",
       "      <td>66019.736842</td>\n",
       "    </tr>\n",
       "  </tbody>\n",
       "</table>\n",
       "</div>"
      ],
      "text/plain": [
       "Have you ever attended a \"Friendsgiving?\"                     No           Yes\n",
       "Have you ever tried to meet up with hometown fr...                            \n",
       "No                                                  78914.549654  72894.736842\n",
       "Yes                                                 78750.000000  66019.736842"
      ]
     },
     "execution_count": 57,
     "metadata": {},
     "output_type": "execute_result"
    }
   ],
   "source": [
    "data.pivot_table(\n",
    "    index='Have you ever tried to meet up with hometown friends on Thanksgiving night?',\n",
    "    columns='Have you ever attended a \"Friendsgiving?\"',\n",
    "    values='int_income'\n",
    ")"
   ]
  },
  {
   "cell_type": "markdown",
   "metadata": {},
   "source": [
    "1. Younger participants (average ages: 34 - 37) are more likely to either have attended or attend a Friendsgiving or have tried meeting up with hometown friends.\n",
    "\n",
    "2. Participants who have attended a Friendsgiving or have tried to meet up with hometown friends in the past are also likely to be earning on average $6000 to $13000 less than those who did not, suggesting that these participants are likely to be younger in age - which explains their earnings and is consistent with the previous finding shown in point 1."
   ]
  },
  {
   "cell_type": "code",
   "execution_count": null,
   "metadata": {
    "collapsed": true
   },
   "outputs": [],
   "source": []
  }
 ],
 "metadata": {
  "kernelspec": {
   "display_name": "Python 3",
   "language": "python",
   "name": "python3"
  },
  "language_info": {
   "codemirror_mode": {
    "name": "ipython",
    "version": 3
   },
   "file_extension": ".py",
   "mimetype": "text/x-python",
   "name": "python",
   "nbconvert_exporter": "python",
   "pygments_lexer": "ipython3",
   "version": "3.4.3"
  }
 },
 "nbformat": 4,
 "nbformat_minor": 0
}
